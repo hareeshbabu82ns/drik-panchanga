{
 "cells": [
  {
   "cell_type": "code",
   "execution_count": 324,
   "metadata": {},
   "outputs": [],
   "source": [
    "import panchanga as panchanga\n",
    "import datetime as datetime\n",
    "import json\n",
    "from indic_transliteration import sanscript\n",
    "from indic_transliteration.sanscript import SchemeMap, SCHEMES, transliterate\n",
    "from vimsottari import vimsottari_mahadasa, compute_antara_from, vimsottari_bhukti\n",
    "import pytz\n",
    "import math"
   ]
  },
  {
   "cell_type": "code",
   "execution_count": 325,
   "metadata": {},
   "outputs": [],
   "source": [
    "fnames = open('names_locale_te.json','rt')\n",
    "json_names = json.load(fnames)\n",
    "\n"
   ]
  },
  {
   "cell_type": "code",
   "execution_count": 326,
   "metadata": {},
   "outputs": [
    {
     "output_type": "stream",
     "name": "stdout",
     "text": "Current UTC:  2020-05-07 13:56:11.432666\nCurrent Date: 2020-05-06 18:00:00 MDT-0600\n"
    }
   ],
   "source": [
    "date_format = '%Y-%m-%d %H:%M:%S %Z%z'\n",
    "tzone_out = pytz.timezone('America/Edmonton')\n",
    "\n",
    "place = panchanga.Place(51.0300, -114.0507, -6.0)\n",
    "date = datetime.datetime.now()\n",
    "# date = date.astimezone(tzone_out)\n",
    "print('Current UTC: ',date)\n",
    "jd = panchanga.gregorian_to_jd(date)\n",
    "# jd = panchanga.swe.julday(date.year,date.month,date.day,date.hour + date.minute/60. + date.second/3600.)\n",
    "# jd = panchanga.swe.julday(2020,5,7,0.0)\n",
    "greg = panchanga.swe.jdut1_to_utc(jd,flag=panchanga.swe.GREG_CAL)\n",
    "date_curr = datetime.datetime(*[math.floor(d) for d in greg])\n",
    "date_curr_local = date_curr.astimezone(tzone_out) # local time  \n",
    "\n",
    "print(f'Current Date: {date_curr_local.strftime(date_format)}')\n",
    "\n"
   ]
  },
  {
   "cell_type": "code",
   "execution_count": 327,
   "metadata": {},
   "outputs": [
    {
     "output_type": "stream",
     "name": "stdout",
     "text": "vara: గురువార\n masa:  వైశాఖ\nsamvatsara: శార్వరీ\n"
    }
   ],
   "source": [
    "vaara = panchanga.vaara(jd)\n",
    "# print(f'vaara: {vaara}')\n",
    "print('vara:',json_names['varas'][str(vaara)])\n",
    "\n",
    "masa = panchanga.masa(jd, place)\n",
    "# print(f'masa: {masa}')\n",
    "print('adhika ' if masa[1] else '','masa: ', json_names['masas'][str(masa[0])])\n",
    "\n",
    "samvatsara = panchanga.samvatsara(jd, masa[0])\n",
    "print(f'samvatsara: {json_names[\"samvats\"][str(samvatsara)]}')\n",
    "\n"
   ]
  },
  {
   "cell_type": "code",
   "execution_count": 328,
   "metadata": {},
   "outputs": [
    {
     "output_type": "stream",
     "name": "stdout",
     "text": "tithi:  కృష్ణ పక్ష ప్రథమా upto:  [25, 32, 5]\n"
    }
   ],
   "source": [
    "tithi = panchanga.tithi(jd, place)\n",
    "# print(f'tithi: {tithi}')\n",
    "print('tithi: ',json_names['tithis'][str(tithi[0])], 'upto: ', tithi[1])\n",
    "if len(tithi) > 2:\n",
    "    print('tithi: ',json_names['tithis'][str(tithi[2])], 'upto: ', tithi[3])\n",
    "\n"
   ]
  },
  {
   "cell_type": "code",
   "execution_count": 329,
   "metadata": {},
   "outputs": [
    {
     "output_type": "stream",
     "name": "stdout",
     "text": "sunrise: 2020-05-07 00:03:48 MDT-0600, [6, 3, 48]\nsunset: 2020-05-07 15:02:37 MDT-0600, [21, 2, 37]\n"
    }
   ],
   "source": [
    "sunrise = panchanga.sunrise(jd, place)\n",
    "# print(f'sunrise: {sunrise}')\n",
    "greg = panchanga.swe.jdut1_to_utc(sunrise[0],flag=panchanga.swe.GREG_CAL)\n",
    "date_srise = datetime.datetime(*[math.floor(d) for d in greg])\n",
    "date_srise_local = date_srise.astimezone(tzone_out) # local time  \n",
    "\n",
    "print(f'sunrise: {date_srise_local.strftime(date_format)}, {sunrise[1]}')\n",
    "\n",
    "sunset = panchanga.sunset(jd, place)\n",
    "# print(f'sunset: {sunset}')\n",
    "greg = panchanga.swe.jdut1_to_utc(sunset[0],flag=panchanga.swe.GREG_CAL)\n",
    "date_sset = datetime.datetime(*[math.floor(d) for d in greg])\n",
    "date_sset_local = date_sset.astimezone(tzone_out) # local time  \n",
    "\n",
    "print(f'sunset: {date_sset_local.strftime(date_format)}, {sunset[1]}')"
   ]
  },
  {
   "cell_type": "code",
   "execution_count": 334,
   "metadata": {},
   "outputs": [
    {
     "output_type": "stream",
     "name": "stdout",
     "text": "moonrise: [21, 51, 59]\nmoonset: [6, 21, 33]\n"
    }
   ],
   "source": [
    "moonrise = panchanga.moonrise(jd, place)\n",
    "print(f'moonrise: {moonrise}')\n",
    "# greg = panchanga.swe.jdut1_to_utc(moonrise[0],flag=panchanga.swe.GREG_CAL)\n",
    "# date_mrise = datetime.datetime(*[math.floor(d) for d in greg])\n",
    "# date_mrise_local = date_mrise.astimezone(tzone_out) # local time  \n",
    "\n",
    "# print(f'moonrise: {date_mrise_local.strftime(date_format)}, {moonrise[1]}')\n",
    "\n",
    "moonset = panchanga.moonset(jd, place)\n",
    "print(f'moonset: {moonset}')\n",
    "# greg = panchanga.swe.jdut1_to_utc(moonset[0],flag=panchanga.swe.GREG_CAL)\n",
    "# date_mset = datetime.datetime(*[math.floor(d) for d in greg])\n",
    "# date_mset_local = date_mset.astimezone(tzone_out) # local time  \n",
    "\n",
    "# print(f'moonset: {date_mset_local.strftime(date_format)}, {moonset[1]}')"
   ]
  },
  {
   "cell_type": "code",
   "execution_count": 330,
   "metadata": {},
   "outputs": [
    {
     "output_type": "stream",
     "name": "stdout",
     "text": "yoga:  వారీయన upto:  [25, 25, 29]\n"
    }
   ],
   "source": [
    "yoga = panchanga.yoga(jd, place)\n",
    "# print(f'yoga: {yoga}')\n",
    "print('yoga: ',json_names['yogas'][str(yoga[0])], 'upto: ', yoga[1])\n",
    "if len(yoga) > 2:\n",
    "    print('yoga: ',json_names['yogas'][str(yoga[2])], 'upto: ', yoga[3])"
   ]
  },
  {
   "cell_type": "code",
   "execution_count": 331,
   "metadata": {},
   "outputs": [
    {
     "output_type": "stream",
     "name": "stdout",
     "text": "navamsa: [[0, 6], [1, 0], [4, 6], [2, 7], [5, 9], [3, 5], [6, 11], [10, 8], [9, 2], [7, 3], [8, 1]]\nసూర్య : తులా\nచన్ద్ర : మేష\nమఙ్గల : తులా\nబుధ : వృశ్చిక\nగురు : మకర\nశుక్ర : కన్యా\nశని : మీన\nరాహు : ధనుస్\nకేతు : మిథున\nహర్షల : కర్కాటక\nగల్ల : వృషభ\n"
    }
   ],
   "source": [
    "nv = panchanga.navamsa(jd, place)\n",
    "print(f'navamsa: {nv}')\n",
    "for n in nv:\n",
    "    print('%s : %s' % (json_names['planets'][str(n[0])],json_names['zodiac'][str(n[1])]))"
   ]
  },
  {
   "cell_type": "code",
   "execution_count": 332,
   "metadata": {},
   "outputs": [
    {
     "output_type": "stream",
     "name": "stdout",
     "text": "nakshatra:  విశాఖా upto:  [21, 7, 49]\n"
    }
   ],
   "source": [
    "nakshatra = panchanga.nakshatra(jd, place)\n",
    "# print(f'nakshatra: {nakshatra}')\n",
    "print('nakshatra: ',json_names['nakshatras'][str(nakshatra[0])], 'upto: ', nakshatra[1])\n",
    "if len(nakshatra) > 2:\n",
    "    print('nakshatra: ',json_names['nakshatras'][str(nakshatra[2])], 'upto: ', nakshatra[3])"
   ]
  },
  {
   "cell_type": "code",
   "execution_count": 354,
   "metadata": {},
   "outputs": [
    {
     "output_type": "stream",
     "name": "stdout",
     "text": "karana: [32]\nకౌలవ\nraasi: వృషభ\nrahu_kalam: [[16, 3, 49], [14, 56, 22]]\nyamaganda_kalam: [[21, 41, 2], [20, 33, 35]]\ngulika_kalam: [[19, 26, 9], [18, 18, 42]]\ndurmuhurtam: [[18.68649024143815, 15.089481968432665], [18.086988866329193, 14.489980593323708]]\n"
    }
   ],
   "source": [
    "tzone = pytz.timezone('America/Edmonton')\n",
    "date_now = datetime.datetime.now()\n",
    "# date = date_now.astimezone(tzone)\n",
    "# date = datetime.datetime.now()\n",
    "# jd = panchanga.gregorian_to_jd(date_now)\n",
    "# jd = panchanga.local_time_to_jdut1(date.year,date.month,date.day,date.hour,date.minute,date.second)\n",
    "# jd = panchanga.swe.julday(date.year,date.month,date.day,date.hour + date.minute/60. + date.second/3600.)\n",
    "\n",
    "karana = panchanga.karana(jd, place)\n",
    "print(f'karana: {karana}')\n",
    "print(json_names['karanas'][str(karana[0])])\n",
    "\n",
    "raasi = panchanga.raasi(jd)\n",
    "print(f'raasi: {json_names[\"zodiac\"][str(raasi)]}')\n",
    "\n",
    "rahu_kalam = panchanga.rahu_kalam(jd, place)\n",
    "print(f'rahu_kalam: {rahu_kalam}')\n",
    "\n",
    "yamaganda_kalam = panchanga.yamaganda_kalam(jd, place)\n",
    "print(f'yamaganda_kalam: {yamaganda_kalam}')\n",
    "\n",
    "gulika_kalam = panchanga.gulika_kalam(jd, place)\n",
    "print(f'gulika_kalam: {gulika_kalam}')\n",
    "\n",
    "durmuhurtam = panchanga.durmuhurtam(jd, place)\n",
    "print(f'durmuhurtam: {durmuhurtam}')"
   ]
  },
  {
   "cell_type": "code",
   "execution_count": 335,
   "metadata": {},
   "outputs": [
    {
     "output_type": "stream",
     "name": "stdout",
     "text": "Current DateTime: 2020-05-07 07:56:12 MDT-0600, Current DateTime UTC: 2020-05-07 13:56:12 , Julian: 2458976.5\nDOB: 1982-08-23 03:30:00 IST+0530, DOB UTC: 1982-08-22 22:00:00 UTC+0000, Julian: 2445204.416672653\n"
    }
   ],
   "source": [
    "\n",
    "tzone = pytz.timezone('America/Edmonton')\n",
    "date_now = datetime.datetime.now()\n",
    "date_local = date_now.astimezone(tzone)\n",
    "date_now_jd = panchanga.gregorian_to_jd(date_now)\n",
    "print(f'Current DateTime: {date_local.strftime(date_format)}, Current DateTime UTC: {date_now.strftime(date_format)}, Julian: {date_now_jd}')\n",
    "\n",
    "# dob in local time\n",
    "tzone = pytz.timezone('Europe/Zurich')\n",
    "# dob = tzone.localize(datetime.datetime(2013,12,12,15,15,0,0))  #l\n",
    "tzone = pytz.timezone('Asia/Kolkata')\n",
    "dob = tzone.localize(datetime.datetime(1982,8,23,3,30,0,0)) #h\n",
    "# dob = tzone.localize(datetime.datetime(1983,2,17,4,25,0,0)) #j\n",
    "\n",
    "# covert to UTC\n",
    "dob_utc = dob.astimezone(pytz.utc)\n",
    "\n",
    "# convert UTC to Julian Date number\n",
    "# dob_jd = panchanga.gregorian_to_jd(dob_utc)  # excludes time data\n",
    "dob_jd = panchanga.local_time_to_jdut1(dob_utc.year,dob_utc.month,dob_utc.day,dob_utc.hour,dob_utc.minute,dob_utc.second)\n",
    "\n",
    "print(f'DOB: {dob.strftime(date_format)}, DOB UTC: {dob_utc.strftime(date_format)}, Julian: {dob_jd}')\n"
   ]
  },
  {
   "cell_type": "code",
   "execution_count": 336,
   "metadata": {},
   "outputs": [
    {
     "output_type": "stream",
     "name": "stdout",
     "text": "---------- మఙ్గల Dasa ---------- \n               మఙ్గల:\t 1981-08-04\t1981-08-03 23:14:57 MDT-0600\t2444820.718729\n                రాహు:\t 1981-12-31\t1981-12-31 01:45:42 MST-0700\t2444969.865076\n                గురు:\t 1983-01-18\t1983-01-18 14:13:19 MST-0700\t2445353.384255\n                 శని:\t 1983-12-25\t1983-12-25 11:57:52 MST-0700\t2445694.290191\n                 బుధ:\t 1985-02-02\t1985-02-02 07:47:01 MST-0700\t2446099.115990\n                కేతు:\t 1986-01-30\t1986-01-30 12:53:06 MST-0700\t2446461.328548\n               శుక్ర:\t 1986-06-28\t1986-06-28 17:23:50 MDT-0600\t2446610.474895\n               సూర్య:\t 1987-08-29\t1987-08-28 20:34:32 MDT-0600\t2447036.607315\n              చన్ద్ర:\t 1988-01-03\t1988-01-03 15:43:44 MST-0700\t2447164.447042\n ---------- రాహు Dasa ---------- \n                రాహు:\t 1988-08-04\t1988-08-03 18:19:04 MDT-0600\t2447377.513252\n                గురు:\t 1991-04-17\t1991-04-16 22:55:48 MDT-0600\t2448363.705425\n                 శని:\t 1993-09-09\t1993-09-09 13:41:47 MDT-0600\t2449240.320690\n                 బుధ:\t 1996-07-16\t1996-07-16 13:13:53 MDT-0600\t2450281.301317\n                కేతు:\t 1999-02-03\t1999-02-02 21:55:14 MST-0700\t2451212.705036\n               శుక్ర:\t 2000-02-21\t2000-02-21 10:22:51 MST-0700\t2451596.224215\n               సూర్య:\t 2003-02-21\t2003-02-21 04:50:21 MST-0700\t2452691.993296\n              చన్ద్ర:\t 2004-01-16\t2004-01-15 22:22:35 MST-0700\t2453020.724020\n               మఙ్గల:\t 2005-07-17\t2005-07-16 20:36:20 MDT-0600\t2453568.608561\n ---------- గురు Dasa ---------- \n                గురు:\t 2006-08-04\t2006-08-04 09:03:56 MDT-0600\t2453952.127739\n                 శని:\t 2008-09-21\t2008-09-21 14:11:29 MDT-0600\t2454731.341308\n                 బుధ:\t 2011-04-05\t2011-04-04 21:46:41 MDT-0600\t2455656.657421\n                కేతు:\t 2013-07-11\t2013-07-10 19:43:26 MDT-0600\t2456484.571838\n               శుక్ర:\t 2014-06-16\t2014-06-16 17:27:59 MDT-0600\t2456825.477775\n               సూర్య:\t 2017-02-14\t2017-02-14 16:52:24 MST-0700\t2457799.494736\n              చన్ద్ర:\t 2017-12-04\t2017-12-03 21:47:44 MST-0700\t2458091.699824\n               మఙ్గల:\t 2019-04-05\t2019-04-04 22:59:57 MDT-0600\t2458578.708305\n                రాహు:\t 2020-03-11\t2020-03-10 20:44:30 MDT-0600\t2458919.614241\n ---------- శని Dasa ---------- \n                 శని:\t 2022-08-04\t2022-08-04 11:30:29 MDT-0600\t2459796.229506\n                 బుధ:\t 2025-08-07\t2025-08-07 07:01:02 MDT-0600\t2460895.042390\n                కేతు:\t 2028-04-16\t2028-04-16 10:34:41 MDT-0600\t2461878.190760\n               శుక్ర:\t 2029-05-26\t2029-05-26 06:23:50 MDT-0600\t2462283.016560\n               సూర్య:\t 2032-07-26\t2032-07-25 21:52:50 MDT-0600\t2463439.661701\n              చన్ద్ర:\t 2033-07-08\t2033-07-07 21:43:33 MDT-0600\t2463786.655244\n               మఙ్గల:\t 2035-02-06\t2035-02-06 04:28:03 MST-0700\t2464364.977814\n                రాహు:\t 2036-03-17\t2036-03-17 01:17:12 MDT-0600\t2464769.803614\n                గురు:\t 2039-01-22\t2039-01-21 23:49:18 MST-0700\t2465810.784241\n ---------- బుధ Dasa ---------- \n                 బుధ:\t 2041-08-04\t2041-08-04 07:24:30 MST-0700\t2466736.100354\n                కేతు:\t 2044-01-01\t2043-12-31 23:13:34 MST-0700\t2467615.759422\n               శుక్ర:\t 2044-12-28\t2044-12-28 04:19:39 MST-0700\t2467977.971979\n               సూర్య:\t 2047-10-29\t2047-10-29 01:45:36 MST-0700\t2469012.865001\n              చన్ద్ర:\t 2048-09-03\t2048-09-03 12:59:23 MST-0700\t2469323.332907\n               మఙ్గల:\t 2050-02-03\t2050-02-02 23:42:21 MST-0700\t2469840.779418\n                రాహు:\t 2051-01-31\t2051-01-31 04:48:26 MST-0700\t2470202.991975\n                గురు:\t 2053-08-19\t2053-08-19 14:29:47 MST-0700\t2471134.395694\n                 శని:\t 2055-11-25\t2055-11-25 12:26:33 MST-0700\t2471962.310111\n ---------- కేతు Dasa ---------- \n                కేతు:\t 2058-08-04\t2058-08-04 16:00:12 MST-0700\t2472945.458481\n               శుక్ర:\t 2059-01-01\t2058-12-31 19:30:57 MST-0700\t2473094.604828\n               సూర్య:\t 2060-03-02\t2060-03-01 22:41:38 MST-0700\t2473520.737249\n              చన్ద్ర:\t 2060-07-08\t2060-07-07 18:50:50 MST-0700\t2473648.576975\n               మఙ్గల:\t 2061-02-06\t2061-02-05 20:26:11 MST-0700\t2473861.643185\n                రాహు:\t 2061-07-05\t2061-07-04 23:56:55 MST-0700\t2474010.789532\n                గురు:\t 2062-07-23\t2062-07-23 12:24:32 MST-0700\t2474394.308711\n                 శని:\t 2063-06-29\t2063-06-29 10:09:05 MST-0700\t2474735.214647\n                 బుధ:\t 2064-08-07\t2064-08-07 05:58:14 MST-0700\t2475140.040447\n ---------- శుక్ర Dasa ---------- \n               శుక్ర:\t 2065-08-04\t2065-08-04 11:04:19 MST-0700\t2475502.253004\n               సూర్య:\t 2068-12-04\t2068-12-03 23:34:51 MST-0700\t2476719.774205\n              చన్ద్ర:\t 2069-12-04\t2069-12-04 05:44:00 MST-0700\t2477085.030566\n               మఙ్గల:\t 2071-08-05\t2071-08-04 23:59:16 MST-0700\t2477693.791166\n                రాహు:\t 2072-10-04\t2072-10-04 03:09:57 MST-0700\t2478119.923587\n                గురు:\t 2075-10-05\t2075-10-04 21:37:26 MST-0700\t2479215.692668\n                 శని:\t 2078-06-05\t2078-06-04 22:01:51 MST-0700\t2480189.709629\n                 బుధ:\t 2081-08-04\t2081-08-04 13:30:52 MST-0700\t2481346.354771\n                కేతు:\t 2084-06-04\t2084-06-04 10:56:49 MST-0700\t2482381.247792\n ---------- సూర్య Dasa ---------- \n               సూర్య:\t 2085-08-04\t2085-08-04 14:07:30 MST-0700\t2482807.380212\n              చన్ద్ర:\t 2085-11-22\t2085-11-22 03:58:15 MST-0700\t2482916.957120\n               మఙ్గల:\t 2086-05-24\t2086-05-23 19:02:49 MST-0700\t2483099.585301\n                రాహు:\t 2086-09-28\t2086-09-28 15:12:02 MST-0700\t2483227.425027\n                గురు:\t 2087-08-23\t2087-08-23 08:44:16 MST-0700\t2483556.155751\n                 శని:\t 2088-06-10\t2088-06-10 13:39:36 MST-0700\t2483848.360840\n                 బుధ:\t 2089-05-23\t2089-05-23 13:30:18 MST-0700\t2484195.354382\n                కేతు:\t 2090-03-30\t2090-03-30 00:44:05 MST-0700\t2484505.822288\n               శుక్ర:\t 2090-08-05\t2090-08-04 20:53:18 MST-0700\t2484633.662014\n ---------- చన్ద్ర Dasa ---------- \n              చన్ద్ర:\t 2091-08-05\t2091-08-05 03:02:27 MST-0700\t2484998.918375\n               మఙ్గల:\t 2092-06-04\t2092-06-04 12:10:05 MST-0700\t2485303.298675\n                రాహు:\t 2093-01-03\t2093-01-03 13:45:26 MST-0700\t2485516.364885\n                గురు:\t 2094-07-05\t2094-07-05 10:59:10 MST-0700\t2486064.249426\n                 శని:\t 2095-11-04\t2095-11-04 11:11:23 MST-0700\t2486551.257907\n                 బుధ:\t 2097-06-05\t2097-06-04 18:55:53 MST-0700\t2487129.580477\n                కేతు:\t 2098-11-04\t2098-11-04 05:38:51 MST-0700\t2487647.026988\n               శుక్ర:\t 2099-06-05\t2099-06-05 07:14:12 MST-0700\t2487860.093198\n               సూర్య:\t 2101-02-04\t2101-02-04 01:29:28 MST-0700\t2488468.853799\n"
    }
   ],
   "source": [
    "dashas = vimsottari_mahadasa(dob_jd)\n",
    "for i in dashas:\n",
    "    print(' ---------- ' + json_names['planets'][str(i)] + ' Dasa ---------- ')\n",
    "    bhuktis = vimsottari_bhukti(i, dashas[i])\n",
    "    for j in bhuktis:\n",
    "        jd = bhuktis[j]\n",
    "\n",
    "        # greg = panchanga.jd_to_gregorian(jd)  # excludes min, sec\n",
    "        greg = panchanga.swe.jdut1_to_utc(jd,flag=panchanga.swe.GREG_CAL)\n",
    "        # date_bhukti = datetime.datetime(greg[0],greg[1],greg[2],round(greg[3]))\n",
    "        date_bhukti = datetime.datetime(*[math.floor(d) for d in greg])\n",
    "        date_bhukti_local = date_bhukti.astimezone(tzone_out) # local time  \n",
    "\n",
    "        y, m, d, h = panchanga.swe.revjul(jd) # utc time\n",
    "        print('%20s:\\t %04d-%02d-%02d\\t%s\\t%.6lf' %\n",
    "                (json_names['planets'][str(j)], y, m, d, date_bhukti_local.strftime(date_format), jd))"
   ]
  },
  {
   "cell_type": "code",
   "execution_count": 337,
   "metadata": {},
   "outputs": [
    {
     "output_type": "stream",
     "name": "stdout",
     "text": "---- JD (2020, 5, 7, 0.0) falls in గురు dasa/రాహు bhukti -----\n                రాహు:\t 2020-03-11T2.742\t2020-03-10 20:44:30 MDT-0600\t2458919.614241\n                గురు:\t 2020-07-20T14.557\t2020-07-20 08:33:24 MDT-0600\t2459051.106531\n                 శని:\t 2020-11-14T11.726\t2020-11-14 04:43:32 MST-0700\t2459167.988566\n                 బుధ:\t 2021-04-02T6.864\t2021-04-02 00:51:49 MDT-0600\t2459306.785983\n                కేతు:\t 2021-08-04T11.355\t2021-08-04 05:21:19 MDT-0600\t2459430.973146\n               శుక్ర:\t 2021-09-24T14.617\t2021-09-24 08:37:00 MDT-0600\t2459482.109036\n               సూర్య:\t 2022-02-17T17.078\t2022-02-17 10:04:40 MST-0700\t2459628.211580\n              చన్ద్ర:\t 2022-04-02T13.016\t2022-04-02 07:00:58 MDT-0600\t2459672.042344\n               మఙ్గల:\t 2022-06-14T14.247\t2022-06-14 08:14:48 MDT-0600\t2459745.093616\n"
    }
   ],
   "source": [
    "i, j, antara = compute_antara_from(date_now_jd, dashas)\n",
    "print(\"---- JD %s falls in %s dasa/%s bhukti -----\" %\n",
    "          (panchanga.jd_to_gregorian(date_now_jd), json_names['planets'][str(i)], json_names['planets'][str(j)]))\n",
    "for k in antara:\n",
    "    jd = antara[k]\n",
    "    # greg = panchanga.jd_to_gregorian(jd)  # excludes min, sec\n",
    "    greg = panchanga.swe.jdut1_to_utc(jd,flag=panchanga.swe.GREG_CAL)\n",
    "    # date_antara = datetime.datetime(greg[0],greg[1],greg[2],round(greg[3]))\n",
    "    date_antara = datetime.datetime(*[math.floor(d) for d in greg])\n",
    "    date_antara_local = date_antara.astimezone(tzone_out) # local time\n",
    "    y, m, d, h = panchanga.swe.revjul(jd) # utc time\n",
    "    print('%20s:\\t %04d-%02d-%02dT%03.3lf\\t%s\\t%.6lf' % (json_names['planets'][str(k)], y, m, d,h, date_antara_local.strftime(date_format), jd))"
   ]
  },
  {
   "cell_type": "code",
   "execution_count": 338,
   "metadata": {},
   "outputs": [
    {
     "output_type": "stream",
     "name": "stdout",
     "text": "2020-05-07 13:56:13 \n2020-05-07 07:56:13 MDT-0600\n2020-05-07 13:56:13 UTC+0000\n2020-05-07 19:26:13 IST+0530\n2020-05-05 18:43:00 IST+0530\n2020-05-05 13:13:00 UTC+0000\ndaylight savings check\nwithout DST\n2019-05-05 10:43:00 MDT-0600\n2019-05-05 16:43:00 UTC+0000\nwith DST\n2019-12-05 10:43:00 MST-0700\n2019-12-05 17:43:00 UTC+0000\n"
    }
   ],
   "source": [
    "tzone = pytz.timezone('America/Edmonton')\n",
    "\n",
    "# utc time\n",
    "now_utc = datetime.datetime.now() \n",
    "print(now_utc.strftime(date_format))\n",
    "\n",
    "# convert utc to local time\n",
    "now_local = now_utc.astimezone(tzone) \n",
    "print(now_local.strftime(date_format))\n",
    "\n",
    "# convert local time to utc\n",
    "now_utc = now_local.astimezone(pytz.utc) \n",
    "print(now_utc.strftime(date_format))\n",
    "\n",
    "# convert local to different timezone\n",
    "tzone = pytz.timezone('Asia/Kolkata')\n",
    "date_destination = now_local.astimezone(tzone)\n",
    "print(date_destination.strftime(date_format))\n",
    "\n",
    "# converts given datetime's timezone to given, does not adjust time\n",
    "date_local = tzone.localize(datetime.datetime(2020,5,5,18,43,00,00)) # local date time\n",
    "print(date_local.strftime(date_format))\n",
    "date_utc = date_local.astimezone(pytz.utc) # convert local time to utc\n",
    "print(date_utc.strftime(date_format))\n",
    "\n",
    "print('daylight savings check')\n",
    "# checking Daylight savings\n",
    "print('without DST')\n",
    "tzone = pytz.timezone('America/Edmonton')\n",
    "date_local = tzone.localize(datetime.datetime(2019,5,5,10,43,00,00)) # local date time\n",
    "print(date_local.strftime(date_format))\n",
    "date_utc = date_local.astimezone(pytz.utc) # convert local time to utc\n",
    "print(date_utc.strftime(date_format))\n",
    "\n",
    "print('with DST')\n",
    "tzone = pytz.timezone('America/Edmonton')\n",
    "date_local = tzone.localize(datetime.datetime(2019,12,5,10,43,00,00)) # local date time\n",
    "print(date_local.strftime(date_format))\n",
    "date_utc = date_local.astimezone(pytz.utc) # convert local time to utc\n",
    "print(date_utc.strftime(date_format))\n",
    "\n"
   ]
  },
  {
   "cell_type": "code",
   "execution_count": 339,
   "metadata": {},
   "outputs": [
    {
     "output_type": "stream",
     "name": "stdout",
     "text": "Date Now UTC: 2020-05-07 13:56:13 \nDate Julian: 2458976.5\nDate Julian with Time: 2458977.080550529\nDate Gregorian: 2020-05-07 13:00:00\nDate Gregorian SWE: 2020-05-07 13:55:59\nDate Julian: 2458976.5\nDate RevJulian: (2020, 5, 7, 0.0)\n"
    }
   ],
   "source": [
    "date_now = datetime.datetime.now()\n",
    "print(f'Date Now UTC: {date_now.strftime(date_format)}')\n",
    "date_jd = panchanga.gregorian_to_jd(date_now)\n",
    "# date_jd = 2458000.206792\n",
    "print(f'Date Julian: {date_jd}')\n",
    "date_jd = panchanga.local_time_to_jdut1(date_now.year,date_now.month,date_now.day,date_now.hour,date_now.minute,date_now.second)\n",
    "print(f'Date Julian with Time: {date_jd}')\n",
    "\n",
    "date_greg_tup = panchanga.jd_to_gregorian(date_jd)\n",
    "date_greg = datetime.datetime(*[math.floor(d) for d in date_greg_tup])\n",
    "print(f'Date Gregorian: {date_greg}')\n",
    "date_greg_tup = panchanga.swe.jdut1_to_utc(date_jd,flag=panchanga.swe.GREG_CAL)\n",
    "# print(date_greg_tup)\n",
    "date_greg = datetime.datetime(*[math.floor(d) for d in date_greg_tup])\n",
    "print(f'Date Gregorian SWE: {date_greg}')\n",
    "date_jd = panchanga.gregorian_to_jd(date_greg)\n",
    "print(f'Date Julian: {date_jd}')\n",
    "date_rev_jd = panchanga.swe.revjul(date_jd)\n",
    "print(f'Date RevJulian: {date_rev_jd}')"
   ]
  },
  {
   "cell_type": "code",
   "execution_count": 340,
   "metadata": {},
   "outputs": [
    {
     "output_type": "stream",
     "name": "stdout",
     "text": "2457291.0619560187\n(2015, 9, 25, 13, 29, 12.788065373897552)\n"
    }
   ],
   "source": [
    "d = panchanga.swe.julday(2015, 9, 25, 13 + 29/60. + 13/3600.)\n",
    "print(d)\n",
    "g = panchanga.swe.jdut1_to_utc(d,flag=panchanga.swe.GREG_CAL)\n",
    "print(g)\n"
   ]
  },
  {
   "cell_type": "code",
   "execution_count": null,
   "metadata": {},
   "outputs": [],
   "source": []
  },
  {
   "cell_type": "code",
   "execution_count": null,
   "metadata": {},
   "outputs": [],
   "source": []
  }
 ],
 "metadata": {
  "kernelspec": {
   "display_name": "Python 3.8.2 64-bit ('venv': venv)",
   "language": "python",
   "name": "python38264bitvenvvenvef9907861c25455a85bcad2ca5126bdc"
  },
  "language_info": {
   "codemirror_mode": {
    "name": "ipython",
    "version": 3
   },
   "file_extension": ".py",
   "mimetype": "text/x-python",
   "name": "python",
   "nbconvert_exporter": "python",
   "pygments_lexer": "ipython3",
   "version": "3.8.2-final"
  }
 },
 "nbformat": 4,
 "nbformat_minor": 4
}