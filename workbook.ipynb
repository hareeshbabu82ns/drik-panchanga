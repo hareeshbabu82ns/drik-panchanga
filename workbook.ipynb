{
 "cells": [
  {
   "cell_type": "code",
   "execution_count": 143,
   "metadata": {},
   "outputs": [],
   "source": [
    "import panchanga as panchanga\n",
    "import datetime as datetime\n",
    "import json\n",
    "from indic_transliteration import sanscript\n",
    "from indic_transliteration.sanscript import SchemeMap, SCHEMES, transliterate\n",
    "from vimsottari import vimsottari_mahadasa, compute_antara_from, vimsottari_bhukti\n",
    "import pytz\n",
    "import math"
   ]
  },
  {
   "cell_type": "code",
   "execution_count": 144,
   "metadata": {},
   "outputs": [],
   "source": [
    "fnames = open('names_locale_te.json','rt')\n",
    "json_names = json.load(fnames)\n",
    "\n"
   ]
  },
  {
   "cell_type": "code",
   "execution_count": 145,
   "metadata": {},
   "outputs": [],
   "source": [
    "date_format = '%Y-%m-%d %H:%M:%S %Z%z'\n",
    "\n",
    "place = panchanga.Place(51.0447, 114.0719, -6.0)\n",
    "jd = panchanga.gregorian_to_jd(datetime.datetime.now())"
   ]
  },
  {
   "cell_type": "code",
   "execution_count": 146,
   "metadata": {},
   "outputs": [
    {
     "output_type": "stream",
     "name": "stdout",
     "text": "masa: [2, False]\nవైశాఖ\n"
    }
   ],
   "source": [
    "masa = panchanga.masa(jd, place)\n",
    "print(f'masa: {masa}')\n",
    "print(transliterate(json_names['masas'][str(masa[0])],sanscript.IAST, sanscript.DEVANAGARI))\n",
    "# print(json_names['masas'][str(masa[0])])"
   ]
  },
  {
   "cell_type": "code",
   "execution_count": 147,
   "metadata": {},
   "outputs": [
    {
     "output_type": "stream",
     "name": "stdout",
     "text": "yoga: [17, [29, 9, 37]]\nవ్యతీపాత\nవైశాఖ\n"
    }
   ],
   "source": [
    "yoga = panchanga.yoga(jd, place)\n",
    "print(f'yoga: {yoga}')\n",
    "print(json_names['yogas'][str(yoga[0])])\n",
    "print(transliterate(json_names['masas'][str(masa[0])],sanscript.IAST, sanscript.DEVANAGARI))"
   ]
  },
  {
   "cell_type": "code",
   "execution_count": 148,
   "metadata": {},
   "outputs": [
    {
     "output_type": "stream",
     "name": "stdout",
     "text": "navamsa: [[0, 6], [1, 7], [4, 6], [2, 7], [5, 9], [3, 5], [6, 11], [10, 8], [9, 2], [7, 3], [8, 1]]\n"
    }
   ],
   "source": [
    "nv = panchanga.navamsa(jd, place)\n",
    "print(f'navamsa: {nv}')"
   ]
  },
  {
   "cell_type": "code",
   "execution_count": 149,
   "metadata": {},
   "outputs": [
    {
     "output_type": "stream",
     "name": "stdout",
     "text": "tithi: [15, [28, 45, 13]]\nపూర్ణిమా\nvaara: 3\nబుధవార\n"
    }
   ],
   "source": [
    "tithi = panchanga.tithi(jd, place)\n",
    "print(f'tithi: {tithi}')\n",
    "print(json_names['tithis'][str(tithi[0])])\n",
    "\n",
    "vaara = panchanga.vaara(jd)\n",
    "print(f'vaara: {vaara}')\n",
    "print(json_names['varas'][str(vaara)])"
   ]
  },
  {
   "cell_type": "code",
   "execution_count": 150,
   "metadata": {},
   "outputs": [
    {
     "output_type": "stream",
     "name": "stdout",
     "text": "nakshatra: [15, [23, 37, 22]]\nస్వాతి\n"
    }
   ],
   "source": [
    "nakshatra = panchanga.nakshatra(jd, place)\n",
    "print(f'nakshatra: {nakshatra}')\n",
    "print(json_names['nakshatras'][str(nakshatra[0])])"
   ]
  },
  {
   "cell_type": "code",
   "execution_count": 151,
   "metadata": {},
   "outputs": [
    {
     "output_type": "stream",
     "name": "stdout",
     "text": "karana: [29]\nవిష్టి\n"
    }
   ],
   "source": [
    "karana = panchanga.karana(jd, place)\n",
    "print(f'karana: {karana}')\n",
    "print(json_names['karanas'][str(karana[0])])"
   ]
  },
  {
   "cell_type": "code",
   "execution_count": 152,
   "metadata": {},
   "outputs": [
    {
     "output_type": "stream",
     "name": "stdout",
     "text": "sunrise: [2458976.1196669945, [14, 52, 19]]\nsunset: [2458975.741439724, [5, 47, 40]]\n"
    }
   ],
   "source": [
    "sunrise = panchanga.sunrise(jd, place)\n",
    "print(f'sunrise: {sunrise}')\n",
    "sunset = panchanga.sunset(jd, place)\n",
    "print(f'sunset: {sunset}')"
   ]
  },
  {
   "cell_type": "code",
   "execution_count": 153,
   "metadata": {},
   "outputs": [
    {
     "output_type": "stream",
     "name": "stdout",
     "text": "moonrise: [4, 17, 19]\nmoonset: [14, 53, 11]\n"
    }
   ],
   "source": [
    "moonrise = panchanga.moonrise(jd, place)\n",
    "print(f'moonrise: {moonrise}')\n",
    "moonset = panchanga.moonset(jd, place)\n",
    "print(f'moonset: {moonset}')"
   ]
  },
  {
   "cell_type": "code",
   "execution_count": 154,
   "metadata": {},
   "outputs": [
    {
     "output_type": "stream",
     "name": "stdout",
     "text": "Current DateTime: 2020-05-05 18:22:45 MDT-0600, Current DateTime UTC: 2020-05-06 00:22:45 , Julian: 2458975.5\nDOB: 1982-08-22 03:30:00 IST+0530, DOB UTC: 1982-08-21 22:00:00 UTC+0000, Julian: 2445203.416672678\n"
    }
   ],
   "source": [
    "tzone_out = pytz.timezone('America/Edmonton')\n",
    "\n",
    "tzone = pytz.timezone('America/Edmonton')\n",
    "date_now = datetime.datetime.now()\n",
    "date_local = date_now.astimezone(tzone)\n",
    "date_now_jd = panchanga.gregorian_to_jd(date_now)\n",
    "print(f'Current DateTime: {date_local.strftime(date_format)}, Current DateTime UTC: {date_now.strftime(date_format)}, Julian: {date_now_jd}')\n",
    "\n",
    "# dob in local time\n",
    "tzone = pytz.timezone('Europe/Zurich')\n",
    "# dob = tzone.localize(datetime.datetime(2013,12,12,15,15,0,0))  #l\n",
    "tzone = pytz.timezone('Asia/Kolkata')\n",
    "dob = tzone.localize(datetime.datetime(1982,8,23,3,30,0,0)) #h\n",
    "# dob = tzone.localize(datetime.datetime(1983,2,17,4,25,0,0)) #j\n",
    "\n",
    "# covert to UTC\n",
    "dob_utc = dob.astimezone(pytz.utc)\n",
    "\n",
    "# convert UTC to Julian Date number\n",
    "# dob_jd = panchanga.gregorian_to_jd(dob_utc)  # excludes time data\n",
    "dob_jd = panchanga.local_time_to_jdut1(dob_utc.year,dob_utc.month,dob_utc.day,dob_utc.hour,dob_utc.minute,dob_utc.second)\n",
    "\n",
    "print(f'DOB: {dob.strftime(date_format)}, DOB UTC: {dob_utc.strftime(date_format)}, Julian: {dob_jd}')\n"
   ]
  },
  {
   "cell_type": "code",
   "execution_count": 155,
   "metadata": {},
   "outputs": [
    {
     "output_type": "stream",
     "name": "stdout",
     "text": "---------- చన్ద్ర Dasa ---------- \n              చన్ద్ర:\t 1981-03-18\t1981-03-18 10:10:28 MST-0700\t2444682.215600\n               మఙ్గల:\t 1982-01-17\t1982-01-16 19:18:05 MST-0700\t2444986.595901\n                రాహు:\t 1982-08-18\t1982-08-17 21:53:25 MDT-0600\t2445199.662111\n                గురు:\t 1984-02-17\t1984-02-16 18:07:10 MST-0700\t2445747.546651\n                 శని:\t 1985-06-18\t1985-06-17 19:19:23 MDT-0600\t2446234.555132\n                 బుధ:\t 1987-01-17\t1987-01-17 02:03:53 MST-0700\t2446812.877703\n                కేతు:\t 1988-06-17\t1988-06-17 13:46:51 MDT-0600\t2447330.324213\n               శుక్ర:\t 1989-01-16\t1989-01-16 14:22:12 MST-0700\t2447543.390424\n               సూర్య:\t 1990-09-17\t1990-09-17 09:37:28 MDT-0600\t2448152.151024\n ---------- మఙ్గల Dasa ---------- \n               మఙ్గల:\t 1991-03-19\t1991-03-18 23:42:02 MST-0700\t2448334.779204\n                రాహు:\t 1991-08-15\t1991-08-15 04:12:47 MDT-0600\t2448483.925552\n                గురు:\t 1992-09-01\t1992-09-01 16:40:24 MDT-0600\t2448867.444730\n                 శని:\t 1993-08-08\t1993-08-08 14:24:57 MDT-0600\t2449208.350666\n                 బుధ:\t 1994-09-17\t1994-09-17 10:14:06 MDT-0600\t2449613.176466\n                కేతు:\t 1995-09-14\t1995-09-14 15:20:11 MDT-0600\t2449975.389023\n               శుక్ర:\t 1996-02-11\t1996-02-10 17:50:55 MST-0700\t2450124.535370\n               సూర్య:\t 1997-04-12\t1997-04-11 22:01:37 MDT-0600\t2450550.667791\n              చన్ద్ర:\t 1997-08-18\t1997-08-17 18:10:49 MDT-0600\t2450678.507517\n ---------- రాహు Dasa ---------- \n                రాహు:\t 1998-03-19\t1998-03-18 18:46:09 MST-0700\t2450891.573727\n                గురు:\t 2000-11-29\t2000-11-28 23:22:53 MST-0700\t2451877.765900\n                 శని:\t 2003-04-24\t2003-04-24 15:08:53 MDT-0600\t2452754.381165\n                 బుధ:\t 2006-02-28\t2006-02-28 13:40:58 MST-0700\t2453795.361793\n                కేతు:\t 2008-09-17\t2008-09-17 00:22:20 MDT-0600\t2454726.765512\n               శుక్ర:\t 2009-10-05\t2009-10-05 12:49:57 MDT-0600\t2455110.284690\n               సూర్య:\t 2012-10-05\t2012-10-05 07:17:25 MDT-0600\t2456206.053771\n              చన్ద్ర:\t 2013-08-30\t2013-08-30 00:49:40 MDT-0600\t2456534.784496\n               మఙ్గల:\t 2015-03-01\t2015-02-28 21:03:25 MST-0700\t2457082.669036\n ---------- గురు Dasa ---------- \n                గురు:\t 2016-03-18\t2016-03-18 10:31:01 MDT-0600\t2457466.188215\n                 శని:\t 2018-05-06\t2018-05-06 15:38:33 MDT-0600\t2458245.401784\n                 బుధ:\t 2020-11-17\t2020-11-16 22:13:47 MST-0700\t2459170.717897\n                కేతు:\t 2023-02-23\t2023-02-22 20:10:31 MST-0700\t2459998.632314\n               శుక్ర:\t 2024-01-30\t2024-01-29 17:55:04 MST-0700\t2460339.538250\n               సూర్య:\t 2026-09-30\t2026-09-29 19:19:30 MDT-0600\t2461313.555211\n              చన్ద్ర:\t 2027-07-19\t2027-07-19 00:14:49 MDT-0600\t2461605.760300\n               మఙ్గల:\t 2028-11-17\t2028-11-16 23:27:02 MST-0700\t2462092.768780\n                రాహు:\t 2029-10-24\t2029-10-23 22:11:35 MDT-0600\t2462433.674717\n ---------- శని Dasa ---------- \n                 శని:\t 2032-03-18\t2032-03-18 12:57:34 MDT-0600\t2463310.289982\n                 బుధ:\t 2035-03-22\t2035-03-22 08:28:07 MDT-0600\t2464409.102866\n                కేతు:\t 2037-11-29\t2037-11-29 11:01:46 MST-0700\t2465392.251236\n               శుక్ర:\t 2039-01-08\t2039-01-08 06:50:55 MST-0700\t2465797.077035\n               సూర్య:\t 2042-03-10\t2042-03-09 22:19:56 MST-0700\t2466953.722177\n              చన్ద్ర:\t 2043-02-20\t2043-02-19 22:10:38 MST-0700\t2467300.715719\n               మఙ్గల:\t 2044-09-20\t2044-09-20 05:55:08 MST-0700\t2467879.038290\n                రాహు:\t 2045-10-30\t2045-10-30 01:44:17 MST-0700\t2468283.864089\n                గురు:\t 2048-09-05\t2048-09-05 01:16:23 MST-0700\t2469324.844716\n ---------- బుధ Dasa ---------- \n                 బుధ:\t 2051-03-19\t2051-03-19 08:51:35 MST-0700\t2470250.160829\n                కేతు:\t 2053-08-15\t2053-08-15 00:40:39 MST-0700\t2471129.819897\n               శుక్ర:\t 2054-08-12\t2054-08-12 05:46:44 MST-0700\t2471492.032455\n               సూర్య:\t 2057-06-12\t2057-06-12 03:12:41 MST-0700\t2472526.925476\n              చన్ద్ర:\t 2058-04-18\t2058-04-18 14:26:28 MST-0700\t2472837.393382\n               మఙ్గల:\t 2059-09-18\t2059-09-18 01:09:26 MST-0700\t2473354.839893\n                రాహు:\t 2060-09-14\t2060-09-14 06:15:31 MST-0700\t2473717.052450\n                గురు:\t 2063-04-03\t2063-04-03 15:56:53 MST-0700\t2474648.456169\n                 శని:\t 2065-07-09\t2065-07-09 13:53:38 MST-0700\t2475476.370586\n ---------- కేతు Dasa ---------- \n                కేతు:\t 2068-03-19\t2068-03-18 17:27:17 MST-0700\t2476459.518957\n               శుక్ర:\t 2068-08-15\t2068-08-14 20:58:02 MST-0700\t2476608.665304\n               సూర్య:\t 2069-10-15\t2069-10-15 00:08:43 MST-0700\t2477034.797724\n              చన్ద్ర:\t 2070-02-20\t2070-02-19 20:17:55 MST-0700\t2477162.637450\n               మఙ్గల:\t 2070-09-21\t2070-09-20 21:53:16 MST-0700\t2477375.703661\n                రాహు:\t 2071-02-17\t2071-02-17 01:24:00 MST-0700\t2477524.850008\n                గురు:\t 2072-03-06\t2072-03-06 13:51:37 MST-0700\t2477908.369186\n                 శని:\t 2073-02-10\t2073-02-10 11:36:10 MST-0700\t2478249.275123\n                 బుధ:\t 2074-03-22\t2074-03-22 07:25:19 MST-0700\t2478654.100922\n ---------- శుక్ర Dasa ---------- \n               శుక్ర:\t 2075-03-19\t2075-03-19 12:31:24 MST-0700\t2479016.313479\n               సూర్య:\t 2078-07-19\t2078-07-19 01:01:56 MST-0700\t2480233.834681\n              చన్ద్ర:\t 2079-07-19\t2079-07-19 07:11:05 MST-0700\t2480599.091041\n               మఙ్గల:\t 2081-03-19\t2081-03-19 01:26:21 MST-0700\t2481207.851642\n                రాహు:\t 2082-05-19\t2082-05-19 04:37:02 MST-0700\t2481633.984062\n                గురు:\t 2085-05-19\t2085-05-18 23:04:31 MST-0700\t2482729.753144\n                 శని:\t 2088-01-18\t2088-01-17 23:28:57 MST-0700\t2483703.770105\n                 బుధ:\t 2091-03-19\t2091-03-19 14:57:57 MST-0700\t2484860.415246\n                కేతు:\t 2094-01-17\t2094-01-17 12:23:54 MST-0700\t2485895.308267\n ---------- సూర్య Dasa ---------- \n               సూర్య:\t 2095-03-19\t2095-03-19 15:34:35 MST-0700\t2486321.440688\n              చన్ద్ర:\t 2095-07-07\t2095-07-07 05:25:20 MST-0700\t2486431.017596\n               మఙ్గల:\t 2096-01-06\t2096-01-05 20:29:55 MST-0700\t2486613.645776\n                రాహు:\t 2096-05-12\t2096-05-12 16:39:07 MST-0700\t2486741.485502\n                గురు:\t 2097-04-06\t2097-04-06 10:11:21 MST-0700\t2487070.216227\n                 శని:\t 2098-01-23\t2098-01-23 15:06:41 MST-0700\t2487362.421315\n                 బుధ:\t 2099-01-05\t2099-01-05 14:57:23 MST-0700\t2487709.414857\n                కేతు:\t 2099-11-12\t2099-11-12 02:11:10 MST-0700\t2488019.882764\n               శుక్ర:\t 2100-03-20\t2100-03-19 22:20:23 MST-0700\t2488147.722490\n"
    }
   ],
   "source": [
    "dashas = vimsottari_mahadasa(dob_jd)\n",
    "for i in dashas:\n",
    "    print(' ---------- ' + json_names['planets'][str(i)] + ' Dasa ---------- ')\n",
    "    bhuktis = vimsottari_bhukti(i, dashas[i])\n",
    "    for j in bhuktis:\n",
    "        jd = bhuktis[j]\n",
    "\n",
    "        # greg = panchanga.jd_to_gregorian(jd)  # excludes min, sec\n",
    "        greg = panchanga.swe.jdut1_to_utc(jd,flag=panchanga.swe.GREG_CAL)\n",
    "        # date_bhukti = datetime.datetime(greg[0],greg[1],greg[2],round(greg[3]))\n",
    "        date_bhukti = datetime.datetime(*[math.floor(d) for d in greg])\n",
    "        date_bhukti_local = date_bhukti.astimezone(tzone_out) # local time  \n",
    "\n",
    "        y, m, d, h = panchanga.swe.revjul(jd) # utc time\n",
    "        print('%20s:\\t %04d-%02d-%02d\\t%s\\t%.6lf' %\n",
    "                (json_names['planets'][str(j)], y, m, d, date_bhukti_local.strftime(date_format), jd))"
   ]
  },
  {
   "cell_type": "code",
   "execution_count": 156,
   "metadata": {},
   "outputs": [
    {
     "output_type": "stream",
     "name": "stdout",
     "text": "---- JD (2020, 5, 6, 0.0) falls in గురు dasa/శని bhukti -----\n                 శని:\t 2018-05-06T21.643\t2018-05-06 15:38:33 MDT-0600\t2458245.401784\n                 బుధ:\t 2018-09-30T9.844\t2018-09-30 03:50:38 MDT-0600\t2458391.910168\n                కేతు:\t 2019-02-08T11.919\t2019-02-08 04:55:07 MST-0700\t2458522.996618\n               శుక్ర:\t 2019-04-03T11.361\t2019-04-03 05:21:41 MDT-0600\t2458576.973391\n               సూర్య:\t 2019-09-04T16.626\t2019-09-04 10:37:33 MDT-0600\t2458731.192743\n              చన్ద్ర:\t 2019-10-20T23.005\t2019-10-20 17:00:18 MDT-0600\t2458777.458549\n               మఙ్గల:\t 2020-01-06T1.637\t2020-01-05 18:38:14 MST-0700\t2458854.568225\n                రాహు:\t 2020-02-29T1.080\t2020-02-28 18:04:48 MST-0700\t2458908.544998\n                గురు:\t 2020-07-16T20.218\t2020-07-16 14:13:05 MDT-0600\t2459047.342415\n"
    }
   ],
   "source": [
    "i, j, antara = compute_antara_from(date_now_jd, dashas)\n",
    "print(\"---- JD %s falls in %s dasa/%s bhukti -----\" %\n",
    "          (panchanga.jd_to_gregorian(date_now_jd), json_names['planets'][str(i)], json_names['planets'][str(j)]))\n",
    "for k in antara:\n",
    "    jd = antara[k]\n",
    "    # greg = panchanga.jd_to_gregorian(jd)  # excludes min, sec\n",
    "    greg = panchanga.swe.jdut1_to_utc(jd,flag=panchanga.swe.GREG_CAL)\n",
    "    # date_antara = datetime.datetime(greg[0],greg[1],greg[2],round(greg[3]))\n",
    "    date_antara = datetime.datetime(*[math.floor(d) for d in greg])\n",
    "    date_antara_local = date_antara.astimezone(tzone_out) # local time\n",
    "    y, m, d, h = panchanga.swe.revjul(jd) # utc time\n",
    "    print('%20s:\\t %04d-%02d-%02dT%03.3lf\\t%s\\t%.6lf' % (json_names['planets'][str(k)], y, m, d,h, date_antara_local.strftime(date_format), jd))"
   ]
  },
  {
   "cell_type": "code",
   "execution_count": 157,
   "metadata": {},
   "outputs": [
    {
     "output_type": "stream",
     "name": "stdout",
     "text": "2020-05-06 00:22:46 \n2020-05-05 18:22:46 MDT-0600\n2020-05-06 00:22:46 UTC+0000\n2020-05-06 05:52:46 IST+0530\n2020-05-05 18:43:00 IST+0530\n2020-05-05 13:13:00 UTC+0000\ndaylight savings check\nwithout DST\n2019-05-05 10:43:00 MDT-0600\n2019-05-05 16:43:00 UTC+0000\nwith DST\n2019-12-05 10:43:00 MST-0700\n2019-12-05 17:43:00 UTC+0000\n"
    }
   ],
   "source": [
    "tzone = pytz.timezone('America/Edmonton')\n",
    "\n",
    "# utc time\n",
    "now_utc = datetime.datetime.now() \n",
    "print(now_utc.strftime(date_format))\n",
    "\n",
    "# convert utc to local time\n",
    "now_local = now_utc.astimezone(tzone) \n",
    "print(now_local.strftime(date_format))\n",
    "\n",
    "# convert local time to utc\n",
    "now_utc = now_local.astimezone(pytz.utc) \n",
    "print(now_utc.strftime(date_format))\n",
    "\n",
    "# convert local to different timezone\n",
    "tzone = pytz.timezone('Asia/Kolkata')\n",
    "date_destination = now_local.astimezone(tzone)\n",
    "print(date_destination.strftime(date_format))\n",
    "\n",
    "# converts given datetime's timezone to given, does not adjust time\n",
    "date_local = tzone.localize(datetime.datetime(2020,5,5,18,43,00,00)) # local date time\n",
    "print(date_local.strftime(date_format))\n",
    "date_utc = date_local.astimezone(pytz.utc) # convert local time to utc\n",
    "print(date_utc.strftime(date_format))\n",
    "\n",
    "print('daylight savings check')\n",
    "# checking Daylight savings\n",
    "print('without DST')\n",
    "tzone = pytz.timezone('America/Edmonton')\n",
    "date_local = tzone.localize(datetime.datetime(2019,5,5,10,43,00,00)) # local date time\n",
    "print(date_local.strftime(date_format))\n",
    "date_utc = date_local.astimezone(pytz.utc) # convert local time to utc\n",
    "print(date_utc.strftime(date_format))\n",
    "\n",
    "print('with DST')\n",
    "tzone = pytz.timezone('America/Edmonton')\n",
    "date_local = tzone.localize(datetime.datetime(2019,12,5,10,43,00,00)) # local date time\n",
    "print(date_local.strftime(date_format))\n",
    "date_utc = date_local.astimezone(pytz.utc) # convert local time to utc\n",
    "print(date_utc.strftime(date_format))\n",
    "\n"
   ]
  },
  {
   "cell_type": "code",
   "execution_count": 158,
   "metadata": {},
   "outputs": [
    {
     "output_type": "stream",
     "name": "stdout",
     "text": "Date Now UTC: 2020-05-06 00:22:46 \nDate Julian: 2458975.5\nDate Julian with Time: 2458975.5152727785\nDate Gregorian: 2020-05-06 00:00:00\nDate Gregorian SWE: 2020-05-06 00:22:00\nDate Julian: 2458975.5\nDate RevJulian: (2020, 5, 6, 0.0)\n"
    }
   ],
   "source": [
    "date_now = datetime.datetime.now()\n",
    "print(f'Date Now UTC: {date_now.strftime(date_format)}')\n",
    "date_jd = panchanga.gregorian_to_jd(date_now)\n",
    "# date_jd = 2458000.206792\n",
    "print(f'Date Julian: {date_jd}')\n",
    "date_jd = panchanga.local_time_to_jdut1(date_now.year,date_now.month,date_now.day,date_now.hour,date_now.minute,date_now.second)\n",
    "print(f'Date Julian with Time: {date_jd}')\n",
    "\n",
    "date_greg_tup = panchanga.jd_to_gregorian(date_jd)\n",
    "date_greg = datetime.datetime(*[math.floor(d) for d in date_greg_tup])\n",
    "print(f'Date Gregorian: {date_greg}')\n",
    "date_greg_tup = panchanga.swe.jdut1_to_utc(date_jd,flag=panchanga.swe.GREG_CAL)\n",
    "# print(date_greg_tup)\n",
    "date_greg = datetime.datetime(*[math.floor(d) for d in date_greg_tup])\n",
    "print(f'Date Gregorian SWE: {date_greg}')\n",
    "date_jd = panchanga.gregorian_to_jd(date_greg)\n",
    "print(f'Date Julian: {date_jd}')\n",
    "date_rev_jd = panchanga.swe.revjul(date_jd)\n",
    "print(f'Date RevJulian: {date_rev_jd}')"
   ]
  },
  {
   "cell_type": "code",
   "execution_count": null,
   "metadata": {},
   "outputs": [],
   "source": []
  }
 ],
 "metadata": {
  "kernelspec": {
   "display_name": "Python 3.8.2 64-bit ('venv': venv)",
   "language": "python",
   "name": "python38264bitvenvvenvef9907861c25455a85bcad2ca5126bdc"
  },
  "language_info": {
   "codemirror_mode": {
    "name": "ipython",
    "version": 3
   },
   "file_extension": ".py",
   "mimetype": "text/x-python",
   "name": "python",
   "nbconvert_exporter": "python",
   "pygments_lexer": "ipython3",
   "version": "3.8.2-final"
  }
 },
 "nbformat": 4,
 "nbformat_minor": 4
}